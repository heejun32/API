{
 "cells": [
  {
   "cell_type": "code",
   "execution_count": 1,
   "id": "48a1e240",
   "metadata": {},
   "outputs": [],
   "source": [
    "import requests\n",
    "def get_translate(text):\n",
    "    client_id = \"\"  # 네이버 API에서 발급받은 id 입력\n",
    "    client_secret = \"\"   # 네이버 API에서 발급받은 secret key 입력\n",
    "\n",
    "    data = {'text' : text,\n",
    "            'source' : 'en',\n",
    "            'target': 'ko'}\n",
    "\n",
    "    url = \"https://openapi.naver.com/v1/papago/n2mt\"\n",
    "\n",
    "    header = {\"X-Naver-Client-Id\":client_id,\n",
    "              \"X-Naver-Client-Secret\":client_secret}\n",
    "\n",
    "    response = requests.post(url, headers=header, data=data)\n",
    "    rescode = response.status_code\n",
    "\n",
    "    if(rescode==200):\n",
    "        send_data = response.json()\n",
    "        trans_data = (send_data['message']['result']['translatedText'])\n",
    "        return trans_data\n",
    "    else:\n",
    "        print(\"Error Code:\" , rescode)"
   ]
  },
  {
   "cell_type": "code",
   "execution_count": 6,
   "id": "2feb87ca",
   "metadata": {},
   "outputs": [],
   "source": [
    "text = '''\n",
    "Input the sentence that you want to translate\n",
    "'''"
   ]
  },
  {
   "cell_type": "code",
   "execution_count": 7,
   "id": "31631262",
   "metadata": {},
   "outputs": [
    {
     "data": {
      "text/plain": [
       "'번역할 문장을 입력하세요.'"
      ]
     },
     "execution_count": 7,
     "metadata": {},
     "output_type": "execute_result"
    }
   ],
   "source": [
    "get_translate(text)"
   ]
  },
  {
   "cell_type": "code",
   "execution_count": null,
   "id": "5df66948",
   "metadata": {},
   "outputs": [],
   "source": []
  }
 ],
 "metadata": {
  "kernelspec": {
   "display_name": "Python 3 (ipykernel)",
   "language": "python",
   "name": "python3"
  },
  "language_info": {
   "codemirror_mode": {
    "name": "ipython",
    "version": 3
   },
   "file_extension": ".py",
   "mimetype": "text/x-python",
   "name": "python",
   "nbconvert_exporter": "python",
   "pygments_lexer": "ipython3",
   "version": "3.9.12"
  }
 },
 "nbformat": 4,
 "nbformat_minor": 5
}
